{
 "cells": [
  {
   "cell_type": "code",
   "execution_count": 35,
   "metadata": {},
   "outputs": [],
   "source": [
    "%matplotlib inline\n",
    "from keras import backend as K\n",
    "import numpy as np \n",
    "from matplotlib.pyplot import plot"
   ]
  },
  {
   "cell_type": "code",
   "execution_count": 126,
   "metadata": {},
   "outputs": [],
   "source": [
    "n_way = 2\n",
    "n_support,n_query = 3,2\n",
    "emb_size =2\n",
    "\n",
    "emb_np_raw = np.random.uniform(0,1,size=(n_way*(n_support+n_query),emb_size ) )\n",
    "emb = K.identity(emb_np_raw)\n",
    "#embemb_np_raw_l2 =K.eval( K.l2_normalize(emb,axis=1))\n",
    "y_np = [i for i in range(n_way)]* n_support + [i for i in range(n_way)]*n_query\n",
    "y = K.identity(y_np)\n",
    "embemb_np_raw_l2=emb_np_raw"
   ]
  },
  {
   "cell_type": "code",
   "execution_count": 131,
   "metadata": {},
   "outputs": [],
   "source": [
    "import tensorflow as tf \n",
    "\n",
    "def euc_distance(a,b):\n",
    "    M2=b.shape[0]\n",
    "    M1=a.shape[0]\n",
    "    p1 = tf.matmul(tf.expand_dims(tf.reduce_sum(tf.square(a), 1), 1),tf.ones(shape=(1, M2),dtype=tf.float64) )\n",
    "    p2 = tf.transpose(tf.matmul(tf.reshape(tf.reduce_sum(tf.square(b), 1), \n",
    "                                           shape=[-1, 1]),tf.ones(shape=(M1, 1),\n",
    "                                           dtype=tf.float64),transpose_b=True))\n",
    "    res = tf.add(p1, p2) - 2 * K.dot(a, K.transpose(b))\n",
    "    return res\n",
    "\n",
    "\n",
    "def euc_distance1(a,b):\n",
    "    \n",
    "    row_norms_A = tf.reduce_sum(tf.square(a), axis=1)\n",
    "    row_norms_A = tf.reshape(row_norms_A, [-1, 1])  # Column vector.\n",
    "\n",
    "    row_norms_B = tf.reduce_sum(tf.square(b), axis=1)\n",
    "    row_norms_B = tf.reshape(row_norms_B, [1, -1])  # Row vector.\n",
    "\n",
    "    return row_norms_A - 2 * tf.matmul(a, tf.transpose(b)) + row_norms_B\n",
    "\n",
    "def proto_loss(emb,y_input):\n",
    "    emb_s = emb[0:n_way*n_support,:]\n",
    "    emb_q = emb[n_way*n_support:,:]    \n",
    "    y_s = K.gather(y_input, [i for i in range(n_way*n_support)])\n",
    "    y_q = K.gather(y_input, [i for i in range(n_way*n_support, n_way*(n_support+n_query)) ])\n",
    "    \n",
    "    onehot_s = K.cast(K.one_hot(y_s, n_way),'float64')\n",
    "    centers = K.dot(K.transpose(onehot_s), emb_s)/n_support \n",
    "    dist_1=euc_distance1(emb_q,centers)\n",
    "    onehot_q = K.cast(K.one_hot(y_q, n_way),'bool')\n",
    "    loss_deno = K.logsumexp(-1 * dist_1,axis=1)\n",
    "    loss_nume = tf.boolean_mask(dist_1, onehot_q)\n",
    "    \n",
    "    loss = K.mean(loss_nume + loss_deno)\n",
    "    return loss \n",
    "    \n",
    "\n"
   ]
  },
  {
   "cell_type": "code",
   "execution_count": 128,
   "metadata": {},
   "outputs": [
    {
     "name": "stdout",
     "output_type": "stream",
     "text": [
      "0.7062270962917749\n",
      "0.706227096291775\n"
     ]
    }
   ],
   "source": [
    "import torch\n",
    "from torch.nn import functional as F\n",
    "from torch.nn.modules import Module\n",
    "\n",
    "def euclidean_dist(x, y):\n",
    "    '''\n",
    "    Compute euclidean distance between two tensors\n",
    "    '''\n",
    "    # x: N x D\n",
    "    # y: M x D\n",
    "    n = x.size(0)\n",
    "    m = y.size(0)\n",
    "    d = x.size(1)\n",
    "    if d != y.size(1):\n",
    "        raise Exception\n",
    "\n",
    "    x = x.unsqueeze(1).expand(n, m, d)\n",
    "    y = y.unsqueeze(0).expand(n, m, d)\n",
    "\n",
    "    return torch.pow(x - y, 2).sum(2)\n",
    "\n",
    "\n",
    "def prototypical_loss(input, target, n_support):\n",
    "    '''\n",
    "    Inspired by https://github.com/jakesnell/prototypical-networks/blob/master/protonets/models/few_shot.py\n",
    "    Compute the barycentres by averaging the features of n_support\n",
    "    samples for each class in target, computes then the distances from each\n",
    "    samples' features to each one of the barycentres, computes the\n",
    "    log_probability for each n_query samples for each one of the current\n",
    "    classes, of appartaining to a class c, loss and accuracy are then computed\n",
    "    and returned\n",
    "    Args:\n",
    "    - input: the model output for a batch of samples\n",
    "    - target: ground truth for the above batch of samples\n",
    "    - n_support: number of samples to keep in account when computing\n",
    "      barycentres, for each one of the current classes\n",
    "    '''\n",
    "    target_cpu = target.to('cpu')\n",
    "    input_cpu = input.to('cpu')\n",
    "\n",
    "    def supp_idxs(c):\n",
    "        # FIXME when torch will support where as np\n",
    "        return target_cpu.eq(c).nonzero()[:n_support].squeeze(1)\n",
    "\n",
    "    # FIXME when torch.unique will be available on cuda too\n",
    "    classes = torch.unique(target_cpu)\n",
    "    n_classes = len(classes)\n",
    "    # FIXME when torch will support where as np\n",
    "    # assuming n_query, n_target constants\n",
    "    n_query = target_cpu.eq(classes[0].item()).sum().item() - n_support\n",
    "\n",
    "    support_idxs = list(map(supp_idxs, classes))\n",
    "    #print('support_idxs',support_idxs)\n",
    "    prototypes = torch.stack([input_cpu[idx_list].mean(0) for idx_list in support_idxs])\n",
    "    # FIXME when torch will support where as np\n",
    "    #print(prototypes)\n",
    "    query_idxs = torch.stack(list(map(lambda c: target_cpu.eq(c).nonzero()[n_support:], classes))).view(-1)\n",
    "    #print('query_idxs',query_idxs)\n",
    "    query_samples = input.to('cpu')[query_idxs]\n",
    "    #print(\"prototypes\",prototypes)\n",
    "    #print(\"query_samples\",query_samples)\n",
    "    \n",
    "    dists = euclidean_dist(query_samples, prototypes)\n",
    "    #print(\"dists\",dists)\n",
    "    log_p_y = F.log_softmax(-dists, dim=1).view(n_classes, n_query, -1)\n",
    "    \n",
    "    target_inds = torch.arange(0, n_classes)\n",
    "    target_inds = target_inds.view(n_classes, 1, 1)\n",
    "    target_inds = target_inds.expand(n_classes, n_query, 1).long()\n",
    "\n",
    "    loss_val = -log_p_y.gather(2, target_inds).squeeze().view(-1).mean()\n",
    "    _, y_hat = log_p_y.max(2)\n",
    "    acc_val = y_hat.eq(target_inds.squeeze()).float().mean()\n",
    "\n",
    "    return loss_val,  acc_val\n",
    "l, a =prototypical_loss(torch.tensor(embemb_np_raw_l2),torch.tensor(y_np),n_support)\n",
    "print(l.numpy().item())\n",
    "print(K.eval(proto_loss(emb,y)))"
   ]
  },
  {
   "cell_type": "code",
   "execution_count": 132,
   "metadata": {},
   "outputs": [
    {
     "name": "stdout",
     "output_type": "stream",
     "text": [
      "[-8.88178420e-16  3.33066907e-15  3.10862447e-15  0.00000000e+00\n",
      " -2.22044605e-16  4.44089210e-16 -2.22044605e-16  2.22044605e-16\n",
      "  1.55431223e-15 -3.99680289e-15  3.33066907e-16  1.11022302e-16\n",
      "  0.00000000e+00 -4.44089210e-16 -6.66133815e-16 -3.10862447e-15\n",
      "  1.33226763e-15  5.55111512e-15  8.88178420e-16 -8.88178420e-16\n",
      " -2.22044605e-16 -8.88178420e-16  1.55431223e-15  0.00000000e+00\n",
      " -7.77156117e-16 -1.11022302e-15 -5.55111512e-16 -1.11022302e-15\n",
      " -2.22044605e-16 -1.11022302e-15  0.00000000e+00  1.11022302e-16\n",
      " -6.66133815e-16  1.11022302e-15 -1.55431223e-15 -6.66133815e-16\n",
      " -2.22044605e-16 -4.44089210e-16  5.55111512e-16 -4.44089210e-16\n",
      "  3.33066907e-16  3.10862447e-15 -2.22044605e-16 -2.22044605e-16\n",
      "  0.00000000e+00 -2.22044605e-16  8.88178420e-16  3.33066907e-16\n",
      " -2.22044605e-16  5.55111512e-16]\n",
      "[39, 65, 86, 13, 75, 42, 54, 20, 63, 95, 33, 8, 62, 54, 39, 97, 43, 77, 89, 56, 46, 86, 48, 6, 54, 70, 48, 61, 28, 23, 49, 48, 34, 25, 37, 44, 12, 61, 43, 21, 36, 96, 30, 13, 39, 50, 49, 26, 24, 27]\n"
     ]
    },
    {
     "data": {
      "text/plain": [
       "[<matplotlib.lines.Line2D at 0x12f2af978>]"
      ]
     },
     "execution_count": 132,
     "metadata": {},
     "output_type": "execute_result"
    },
    {
     "data": {
      "image/png": "[encoded data removed]",
      "text/plain": [
       "<matplotlib.figure.Figure at 0x12f1a16d8>"
      ]
     },
     "metadata": {},
     "output_type": "display_data"
    }
   ],
   "source": [
    "k =[]\n",
    "p =[]\n",
    "e=[]\n",
    "for i in range(50):\n",
    "    emb_size=np.random.randint(6,100)\n",
    "    e.append(emb_size)\n",
    "    emb_np_raw = np.random.uniform(0,1,size=(n_way*(n_support+n_query),emb_size ) )\n",
    "    emb = K.identity(emb_np_raw)\n",
    "    #embemb_np_raw_l2 =K.eval( K.l2_normalize(emb,axis=1))\n",
    "    embemb_np_raw_l2=emb_np_raw\n",
    "    y_np = [i for i in range(n_way)]* n_support + [i for i in range(n_way)]*n_query\n",
    "    y = K.identity(y_np)\n",
    "    k.append(K.eval(proto_loss(emb,y)))\n",
    "    l, a =prototypical_loss(torch.tensor(embemb_np_raw_l2),torch.tensor(y_np),n_support)\n",
    "    p.append(l.numpy().item())\n",
    "    \n",
    "\n",
    "\n",
    "print(np.array(k)-np.array(p))\n",
    "print(e)\n",
    "plot(k,p)"
   ]
  }
 ],
 "metadata": {
  "kernelspec": {
   "display_name": "Python 3",
   "language": "python",
   "name": "python3"
  },
  "language_info": {
   "codemirror_mode": {
    "name": "ipython",
    "version": 3
   },
   "file_extension": ".py",
   "mimetype": "text/x-python",
   "name": "python",
   "nbconvert_exporter": "python",
   "pygments_lexer": "ipython3",
   "version": "3.6.3"
  }
 },
 "nbformat": 4,
 "nbformat_minor": 2
}
